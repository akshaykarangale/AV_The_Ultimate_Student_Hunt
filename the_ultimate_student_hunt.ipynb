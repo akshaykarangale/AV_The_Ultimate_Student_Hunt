{
 "cells": [
  {
   "cell_type": "code",
   "execution_count": 30,
   "metadata": {
    "collapsed": false
   },
   "outputs": [],
   "source": [
    "import warnings\n",
    "warnings.filterwarnings('ignore')\n",
    "import pandas as pd\n",
    "import numpy as np\n",
    "import xgboost as xgb\n",
    "from statsmodels.nonparametric.smoothers_lowess import lowess\n",
    "pd.set_option('display.max_columns', 100)"
   ]
  },
  {
   "cell_type": "code",
   "execution_count": 31,
   "metadata": {
    "collapsed": true
   },
   "outputs": [],
   "source": [
    "df_train = pd.read_csv('/home/akshay/Downloads/Train_xyqdbho.csv')\n",
    "df_test = pd.read_csv('/home/akshay/Downloads/Test_pyI9Owa.csv')"
   ]
  },
  {
   "cell_type": "code",
   "execution_count": 32,
   "metadata": {
    "collapsed": false
   },
   "outputs": [],
   "source": [
    "# lowess filter for Direction of Wind to smoothen the noise.....\n",
    "filtered = []\n",
    "for i in range(0, len(df_train)-100, 100):\n",
    "#     print(i)\n",
    "    temp = list(lowess(df_train.Direction_Of_Wind[i:i+100],range(100), frac=0.25, it=0, return_sorted=False))\n",
    "    for j in temp:\n",
    "        filtered.append(j)\n",
    "temp = list(lowess(df_train.Direction_Of_Wind[114500:114539],range(39), frac=0.25, it=0, return_sorted=False))\n",
    "for j in temp:\n",
    "    filtered.append(j)"
   ]
  },
  {
   "cell_type": "code",
   "execution_count": 33,
   "metadata": {
    "collapsed": false
   },
   "outputs": [],
   "source": [
    "# lowess filter for Direction of Wind.....\n",
    "filtered_test = []\n",
    "for i in range(0, len(df_test)-100, 100):\n",
    "#     print(i)\n",
    "    temp = list(lowess(df_test.Direction_Of_Wind[i:i+100],range(100), frac=0.25, it=0, return_sorted=False))\n",
    "    for j in temp:\n",
    "        filtered_test.append(j)\n",
    "temp = list(lowess(df_test.Direction_Of_Wind[39400:39420],range(20), frac=0.25, it=0, return_sorted=False))\n",
    "for j in temp:\n",
    "    filtered_test.append(j)"
   ]
  },
  {
   "cell_type": "code",
   "execution_count": 34,
   "metadata": {
    "collapsed": true
   },
   "outputs": [],
   "source": [
    "df_train['filtered_dow'] = np.array(filtered)\n",
    "df_test['filtered_dow'] = np.array(filtered_test)"
   ]
  },
  {
   "cell_type": "code",
   "execution_count": 35,
   "metadata": {
    "collapsed": true
   },
   "outputs": [],
   "source": [
    "#Date-time features\n",
    "df_test['Date'] = pd.to_datetime(df_test.Date, dayfirst=True)\n",
    "df_train['Date'] = pd.to_datetime(df_train.Date, dayfirst=True)\n",
    "\n",
    "df_test['Weekday'] = df_test.Date.apply(lambda x: x.weekday())\n",
    "df_train['Weekday'] = df_train.Date.apply(lambda x: x.weekday())\n",
    "\n",
    "df_test['Month'] = df_test.Date.apply(lambda x: x.month)\n",
    "df_train['Month'] = df_train.Date.apply(lambda x: x.month)\n",
    "\n",
    "df_test['Year'] = df_test.Date.apply(lambda x: x.year)\n",
    "df_train['Year'] = df_train.Date.apply(lambda x: x.year)"
   ]
  },
  {
   "cell_type": "code",
   "execution_count": 36,
   "metadata": {
    "collapsed": true
   },
   "outputs": [],
   "source": [
    "# aggregating months into seasons\n",
    "def get_seasons(month):\n",
    "    if 3 <= month <= 6:\n",
    "        return 1\n",
    "    elif 6 < month <= 9:\n",
    "        return 2\n",
    "    elif 9 < month <= 12:\n",
    "        return 3\n",
    "    else:\n",
    "        return 4\n",
    "\n",
    "df_test['Season'] = df_test.Month.apply(get_seasons)\n",
    "df_train['Season'] = df_train.Month.apply(get_seasons)"
   ]
  },
  {
   "cell_type": "code",
   "execution_count": 37,
   "metadata": {
    "collapsed": true
   },
   "outputs": [],
   "source": [
    "df_train['Day'] = df_train.Date.apply(lambda x: x.day)\n",
    "df_test['Day'] = df_test.Date.apply(lambda x: x.day)"
   ]
  },
  {
   "cell_type": "code",
   "execution_count": 38,
   "metadata": {
    "collapsed": false
   },
   "outputs": [],
   "source": [
    "df_train['day_of_year'] = df_train['Month']*30+df_train['Day']\n",
    "df_test['day_of_year'] = df_test['Month']*30+df_test['Day']\n",
    "\n",
    "# Percent change features which proved to be very effective.....\n",
    "df_train['pct_chng_avg_br_speed'] = df_train.Average_Breeze_Speed.pct_change()\n",
    "df_test['pct_chng_avg_br_speed'] = df_test.Average_Breeze_Speed.pct_change()\n",
    "\n",
    "df_train['pct_chng_dow'] = df_train.Direction_Of_Wind.pct_change()\n",
    "df_test['pct_chng_dow'] = df_test.Direction_Of_Wind.pct_change()\n",
    "\n",
    "df_train['pct_chng_pressure'] = df_train.Average_Atmospheric_Pressure.pct_change()\n",
    "df_test['pct_chng_pressure'] = df_test.Average_Atmospheric_Pressure.pct_change()\n",
    "\n",
    "df_train['Avg_pollution'] = (df_train.Max_Ambient_Pollution + df_train.Min_Ambient_Pollution)/2\n",
    "df_test['Avg_pollution'] = (df_test.Max_Ambient_Pollution + df_test.Min_Ambient_Pollution)/2\n",
    "df_train['pct_chng_pollution'] = df_train.Avg_pollution.pct_change()\n",
    "df_test['pct_chng_pollution'] = df_test.Avg_pollution.pct_change()\n",
    "\n",
    "df_train['pct_chng_avg_moist'] = df_train.Average_Moisture_In_Park.pct_change()\n",
    "df_test['pct_chng_avg_moist'] = df_test.Average_Moisture_In_Park.pct_change()"
   ]
  },
  {
   "cell_type": "code",
   "execution_count": 39,
   "metadata": {
    "collapsed": false
   },
   "outputs": [],
   "source": [
    "# Rolling mean features again to smooth out noise.....\n",
    "df_train['rolling_mean_avg_br_speed_w30'] = pd.rolling_mean(df_train.Average_Breeze_Speed, window=30)\n",
    "df_train['rolling_mean_avg_br_speed_w3'] = pd.rolling_mean(df_train.Average_Breeze_Speed, window=3)\n",
    "df_train['rolling_mean_avg_br_speed_w7'] = pd.rolling_mean(df_train.Average_Breeze_Speed, window=7)\n",
    "df_train['rolling_mean_avg_br_speed_w9'] = pd.rolling_mean(df_train.Average_Breeze_Speed, window=9)\n",
    "\n",
    "df_test['rolling_mean_avg_br_speed_w30'] = pd.rolling_mean(df_test.Average_Breeze_Speed, window=30)\n",
    "df_test['rolling_mean_avg_br_speed_w3'] = pd.rolling_mean(df_test.Average_Breeze_Speed, window=3)\n",
    "df_test['rolling_mean_avg_br_speed_w7'] = pd.rolling_mean(df_test.Average_Breeze_Speed, window=7)\n",
    "df_test['rolling_mean_avg_br_speed_w9'] = pd.rolling_mean(df_test.Average_Breeze_Speed, window=9)"
   ]
  },
  {
   "cell_type": "code",
   "execution_count": 40,
   "metadata": {
    "collapsed": false
   },
   "outputs": [],
   "source": [
    "df_train['rolling_mean_avg_pressure_w3'] = pd.rolling_mean(df_train.Average_Atmospheric_Pressure, window=3)\n",
    "df_train['rolling_mean_avg_pressure_w7'] = pd.rolling_mean(df_train.Average_Atmospheric_Pressure, window=7)\n",
    "df_train['rolling_mean_avg_pressure_w9'] = pd.rolling_mean(df_train.Average_Atmospheric_Pressure, window=9)\n",
    "\n",
    "df_test['rolling_mean_avg_pressure_w3'] = pd.rolling_mean(df_test.Average_Atmospheric_Pressure, window=3)\n",
    "df_test['rolling_mean_avg_pressure_w7'] = pd.rolling_mean(df_test.Average_Atmospheric_Pressure, window=7)\n",
    "df_test['rolling_mean_avg_pressure_w9'] = pd.rolling_mean(df_test.Average_Atmospheric_Pressure, window=9)"
   ]
  },
  {
   "cell_type": "code",
   "execution_count": 41,
   "metadata": {
    "collapsed": false
   },
   "outputs": [],
   "source": [
    "df_train['rolling_mean_avg_moist_w3'] = pd.rolling_mean(df_train.Average_Moisture_In_Park, window=3)\n",
    "df_train['rolling_mean_avg_moist_w7'] = pd.rolling_mean(df_train.Average_Moisture_In_Park, window=7)\n",
    "df_train['rolling_mean_avg_moist_w9'] = pd.rolling_mean(df_train.Average_Moisture_In_Park, window=9)\n",
    "\n",
    "df_test['rolling_mean_avg_moist_w3'] = pd.rolling_mean(df_test.Average_Moisture_In_Park, window=3)\n",
    "df_test['rolling_mean_avg_moist_w7'] = pd.rolling_mean(df_test.Average_Moisture_In_Park, window=7)\n",
    "df_test['rolling_mean_avg_moist_w9'] = pd.rolling_mean(df_test.Average_Moisture_In_Park, window=9)"
   ]
  },
  {
   "cell_type": "code",
   "execution_count": 42,
   "metadata": {
    "collapsed": false
   },
   "outputs": [],
   "source": [
    "df_train['rolling_mean_dow_w30'] = pd.rolling_mean(df_train.Direction_Of_Wind, window=30)\n",
    "df_train['rolling_mean_dow_w3'] = pd.rolling_mean(df_train.Direction_Of_Wind, window=3)\n",
    "df_train['rolling_mean_dow_w7'] = pd.rolling_mean(df_train.Direction_Of_Wind, window=7)\n",
    "df_train['rolling_mean_dow_w9'] = pd.rolling_mean(df_train.Direction_Of_Wind, window=9)\n",
    "\n",
    "df_test['rolling_mean_dow_w30'] = pd.rolling_mean(df_test.Direction_Of_Wind, window=30)\n",
    "df_test['rolling_mean_dow_w3'] = pd.rolling_mean(df_test.Direction_Of_Wind, window=3)\n",
    "df_test['rolling_mean_dow_w7'] = pd.rolling_mean(df_test.Direction_Of_Wind, window=7)\n",
    "df_test['rolling_mean_dow_w9'] = pd.rolling_mean(df_test.Direction_Of_Wind, window=9)"
   ]
  },
  {
   "cell_type": "code",
   "execution_count": 43,
   "metadata": {
    "collapsed": false
   },
   "outputs": [],
   "source": [
    "df_train['rolling_mean_avg_pollution_w3'] = pd.rolling_mean(df_train.Avg_pollution, window=3)\n",
    "df_train['rolling_mean_avg_pollution_w7'] = pd.rolling_mean(df_train.Avg_pollution, window=7)\n",
    "df_train['rolling_mean_avg_pollution_w9'] = pd.rolling_mean(df_train.Avg_pollution, window=9)\n",
    "\n",
    "df_test['rolling_mean_avg_pollution_w3'] = pd.rolling_mean(df_test.Avg_pollution, window=3)\n",
    "df_test['rolling_mean_avg_pollution_w7'] = pd.rolling_mean(df_test.Avg_pollution, window=7)\n",
    "df_test['rolling_mean_avg_pollution_w9'] = pd.rolling_mean(df_test.Avg_pollution, window=9)"
   ]
  },
  {
   "cell_type": "code",
   "execution_count": 44,
   "metadata": {
    "collapsed": false
   },
   "outputs": [],
   "source": [
    "# A moonshot feature which helped.....\n",
    "x=df_train.groupby(['Park_ID', 'Month'], as_index=False)['Min_Moisture_In_Park'].mean()\n",
    "\n",
    "df_train = pd.merge(df_train, x, on=['Park_ID', 'Month'], how='left', suffixes=(\"\", '_min_moist'))\n",
    "df_test = pd.merge(df_test,x, on=['Park_ID', 'Month'], how='left', suffixes=(\"\",'_min_moist'))\n",
    "\n",
    "# Range of pressure feature\n",
    "df_train['range_pressure'] = df_train['Max_Atmospheric_Pressure'] - df_train['Min_Atmospheric_Pressure']\n",
    "df_test['range_pressure'] = df_test['Max_Atmospheric_Pressure'] - df_test['Min_Atmospheric_Pressure']"
   ]
  },
  {
   "cell_type": "code",
   "execution_count": 45,
   "metadata": {
    "collapsed": false
   },
   "outputs": [],
   "source": [
    "# Rolling mean of percent change.....\n",
    "df_train['rolling_mean_pct_chng_dow'] = pd.rolling_mean(df_train.pct_chng_dow, window=7)\n",
    "df_test['rolling_mean_pct_chng_dow'] = pd.rolling_mean(df_test.pct_chng_dow, window=7)"
   ]
  },
  {
   "cell_type": "code",
   "execution_count": 46,
   "metadata": {
    "collapsed": true
   },
   "outputs": [],
   "source": [
    "# Rolling differences of various features.....\n",
    "def delta (array):\n",
    "    return array[0] - array[1]\n",
    "\n",
    "df_train['change_in_dow'] = pd.rolling_apply(df_train.Direction_Of_Wind, window=2, func=delta)\n",
    "df_test['change_in_dow'] = pd.rolling_apply(df_test.Direction_Of_Wind, window=2, func=delta)\n",
    "\n",
    "df_train['change_in_avg_br_speed'] = pd.rolling_apply(df_train.Average_Breeze_Speed, window=2, func=delta)\n",
    "df_test['change_in_avg_br_speed'] = pd.rolling_apply(df_test.Average_Breeze_Speed, window=2, func=delta)\n",
    "\n",
    "df_train['change_br_speed_pu_dow'] = df_train.change_in_avg_br_speed/df_train.change_in_dow\n",
    "df_test['change_br_speed_pu_dow'] = df_test.change_in_avg_br_speed/df_test.change_in_dow"
   ]
  },
  {
   "cell_type": "code",
   "execution_count": 47,
   "metadata": {
    "collapsed": true
   },
   "outputs": [],
   "source": [
    "df_train = df_train.fillna(-1)\n",
    "df_test = df_test.fillna(-1)"
   ]
  },
  {
   "cell_type": "code",
   "execution_count": 48,
   "metadata": {
    "collapsed": false
   },
   "outputs": [],
   "source": [
    "# Binning direction of wind.....\n",
    "def DOW_to_cat(dow):\n",
    "    if 0 <= dow < 45:\n",
    "        return 1\n",
    "    elif 45 <= dow < 90:\n",
    "        return 2\n",
    "    elif 90 <= dow < 135:\n",
    "        return 3\n",
    "    elif 135 <= dow < 180:\n",
    "        return 4\n",
    "    elif 180 <= dow < 225:\n",
    "        return 5\n",
    "    elif 225 <= dow < 270:\n",
    "        return 6\n",
    "    elif 270 <= dow < 315:\n",
    "        return 7\n",
    "    else:\n",
    "        if dow!=-1:\n",
    "            return 8\n",
    "\n",
    "df_train['dow_cat'] = df_train.Direction_Of_Wind.apply(DOW_to_cat)\n",
    "df_test['dow_cat'] = df_test.Direction_Of_Wind.apply(DOW_to_cat)\n",
    "\n",
    "# Binning Average Breeze speed.....\n",
    "def beaufort_scale (speed):\n",
    "    if 0<=speed<=10:\n",
    "        return 1\n",
    "    elif 10<speed<=50:\n",
    "        return 2\n",
    "    elif 50<speed<=100:\n",
    "        return 3\n",
    "    else:\n",
    "        if speed != -1:\n",
    "            return 4\n",
    "\n",
    "df_train['Average_bf_scale'] = df_train.Average_Breeze_Speed.apply(beaufort_scale)\n",
    "df_test['Average_bf_scale'] = df_test.Average_Breeze_Speed.apply(beaufort_scale)"
   ]
  },
  {
   "cell_type": "code",
   "execution_count": 49,
   "metadata": {
    "collapsed": true
   },
   "outputs": [],
   "source": [
    "df_train.fillna(-1, inplace=True)\n",
    "df_test.fillna(-1, inplace=True)"
   ]
  },
  {
   "cell_type": "code",
   "execution_count": 54,
   "metadata": {
    "collapsed": true
   },
   "outputs": [],
   "source": [
    "# Fitting Xgboost.....\n",
    "xgb_reg = xgb.XGBRegressor( missing= -1, n_estimators=300, learning_rate=0.02, max_depth=17, subsample=0.9, min_child_weight=3, colsample_bytree=0.7, reg_alpha=100, reg_lambda=100, silent=False)"
   ]
  },
  {
   "cell_type": "code",
   "execution_count": 51,
   "metadata": {
    "collapsed": false
   },
   "outputs": [],
   "source": [
    "# Selecting final predictors.....\n",
    "predictors = df_train.columns.drop([ 'change_in_avg_br_speed','change_in_dow','ID','Footfall','Weekday', 'Date','Year', 'Location_Type','Avg_pollution'])"
   ]
  },
  {
   "cell_type": "markdown",
   "metadata": {},
   "source": [
    "### Latest-----> 98.07:\n",
    "Index(['Park_ID', 'Direction_Of_Wind', 'Average_Breeze_Speed',\n",
    "       'Max_Breeze_Speed', 'Min_Breeze_Speed', 'Var1',\n",
    "       'Average_Atmospheric_Pressure', 'Max_Atmospheric_Pressure',\n",
    "       'Min_Atmospheric_Pressure', 'Min_Ambient_Pollution',\n",
    "       'Max_Ambient_Pollution', 'Average_Moisture_In_Park',\n",
    "       'Max_Moisture_In_Park', 'Min_Moisture_In_Park', 'filtered_dow', 'Month',\n",
    "       'Season', 'Day', 'day_of_year', 'pct_chng_avg_br_speed', 'pct_chng_dow',\n",
    "       'pct_chng_pressure', 'pct_chng_pollution', 'pct_chng_avg_moist',\n",
    "       'rolling_mean_avg_br_speed_w30', 'rolling_mean_avg_br_speed_w3',\n",
    "       'rolling_mean_avg_br_speed_w7', 'rolling_mean_avg_br_speed_w9',\n",
    "       'rolling_mean_avg_pressure_w3', 'rolling_mean_avg_pressure_w7',\n",
    "       'rolling_mean_avg_pressure_w9', 'rolling_mean_avg_moist_w3',\n",
    "       'rolling_mean_avg_moist_w7', 'rolling_mean_avg_moist_w9',\n",
    "       'rolling_mean_dow_w30', 'rolling_mean_dow_w3', 'rolling_mean_dow_w7',\n",
    "       'rolling_mean_dow_w9', 'rolling_mean_avg_pollution_w3',\n",
    "       'rolling_mean_avg_pollution_w7', 'rolling_mean_avg_pollution_w9',\n",
    "       'rolling_mean_pct_chng_dow', 'Min_Moisture_In_Park_min_moist','range_pressure',\n",
    "       'dow_cat', 'Average_bf_scale',''change_br_speed_pu_dow''],\n",
    "      dtype='object')"
   ]
  },
  {
   "cell_type": "code",
   "execution_count": 52,
   "metadata": {
    "collapsed": false
   },
   "outputs": [
    {
     "data": {
      "text/plain": [
       "Index(['Park_ID', 'Direction_Of_Wind', 'Average_Breeze_Speed',\n",
       "       'Max_Breeze_Speed', 'Min_Breeze_Speed', 'Var1',\n",
       "       'Average_Atmospheric_Pressure', 'Max_Atmospheric_Pressure',\n",
       "       'Min_Atmospheric_Pressure', 'Min_Ambient_Pollution',\n",
       "       'Max_Ambient_Pollution', 'Average_Moisture_In_Park',\n",
       "       'Max_Moisture_In_Park', 'Min_Moisture_In_Park', 'filtered_dow', 'Month',\n",
       "       'Season', 'Day', 'day_of_year', 'pct_chng_avg_br_speed', 'pct_chng_dow',\n",
       "       'pct_chng_pressure', 'pct_chng_pollution', 'pct_chng_avg_moist',\n",
       "       'rolling_mean_avg_br_speed_w30', 'rolling_mean_avg_br_speed_w3',\n",
       "       'rolling_mean_avg_br_speed_w7', 'rolling_mean_avg_br_speed_w9',\n",
       "       'rolling_mean_avg_pressure_w3', 'rolling_mean_avg_pressure_w7',\n",
       "       'rolling_mean_avg_pressure_w9', 'rolling_mean_avg_moist_w3',\n",
       "       'rolling_mean_avg_moist_w7', 'rolling_mean_avg_moist_w9',\n",
       "       'rolling_mean_dow_w30', 'rolling_mean_dow_w3', 'rolling_mean_dow_w7',\n",
       "       'rolling_mean_dow_w9', 'rolling_mean_avg_pollution_w3',\n",
       "       'rolling_mean_avg_pollution_w7', 'rolling_mean_avg_pollution_w9',\n",
       "       'Min_Moisture_In_Park_min_moist', 'range_pressure',\n",
       "       'rolling_mean_pct_chng_dow', 'change_br_speed_pu_dow', 'dow_cat',\n",
       "       'Average_bf_scale'],\n",
       "      dtype='object')"
      ]
     },
     "execution_count": 52,
     "metadata": {},
     "output_type": "execute_result"
    }
   ],
   "source": [
    "(predictors)"
   ]
  },
  {
   "cell_type": "markdown",
   "metadata": {},
   "source": [
    "Index(['Park_ID', 'Direction_Of_Wind', 'Average_Breeze_Speed',\n",
    "       'Max_Breeze_Speed', 'Min_Breeze_Speed', 'Var1',\n",
    "       'Average_Atmospheric_Pressure', 'Max_Atmospheric_Pressure',\n",
    "       'Min_Atmospheric_Pressure', 'Min_Ambient_Pollution',\n",
    "       'Max_Ambient_Pollution', 'Average_Moisture_In_Park',\n",
    "       'Max_Moisture_In_Park', 'Min_Moisture_In_Park', 'filtered_dow', 'Month',\n",
    "       'Season', 'Day', 'day_of_year', 'pct_chng_avg_br_speed', 'pct_chng_dow',\n",
    "       'pct_chng_pressure', 'pct_chng_pollution', 'pct_chng_avg_moist',\n",
    "       'rolling_mean_avg_br_speed_w30', 'rolling_mean_avg_br_speed_w3',\n",
    "       'rolling_mean_avg_br_speed_w7', 'rolling_mean_avg_br_speed_w9',\n",
    "       'rolling_mean_avg_pressure_w3', 'rolling_mean_avg_pressure_w7',\n",
    "       'rolling_mean_avg_pressure_w9', 'rolling_mean_avg_moist_w3',\n",
    "       'rolling_mean_avg_moist_w7', 'rolling_mean_avg_moist_w9',\n",
    "       'rolling_mean_dow_w30', 'rolling_mean_dow_w3', 'rolling_mean_dow_w7',\n",
    "       'rolling_mean_dow_w9', 'rolling_mean_avg_pollution_w3',\n",
    "       'rolling_mean_avg_pollution_w7', 'rolling_mean_avg_pollution_w9',\n",
    "       'rolling_mean_pct_chng_dow', 'Min_Moisture_In_Park_min_moist',\n",
    "       'range_pressure', 'dow_cat', 'Average_bf_scale',\n",
    "       'change_br_speed_pu_dow'],\n",
    "      dtype='object')"
   ]
  },
  {
   "cell_type": "code",
   "execution_count": 55,
   "metadata": {
    "collapsed": false
   },
   "outputs": [
    {
     "name": "stdout",
     "output_type": "stream",
     "text": [
      "CPU times: user 14min 11s, sys: 3.51 s, total: 14min 14s\n",
      "Wall time: 7min 49s\n"
     ]
    },
    {
     "data": {
      "text/plain": [
       "XGBRegressor(base_score=0.5, colsample_bylevel=1, colsample_bytree=0.7,\n",
       "       gamma=0, learning_rate=0.02, max_delta_step=0, max_depth=17,\n",
       "       min_child_weight=3, missing=-1, n_estimators=300, nthread=-1,\n",
       "       objective='reg:linear', reg_alpha=100, reg_lambda=100,\n",
       "       scale_pos_weight=1, seed=0, silent=False, subsample=0.9)"
      ]
     },
     "execution_count": 55,
     "metadata": {},
     "output_type": "execute_result"
    }
   ],
   "source": [
    "% time xgb_reg.fit(df_train[predictors], df_train.Footfall)"
   ]
  },
  {
   "cell_type": "code",
   "execution_count": null,
   "metadata": {
    "collapsed": false
   },
   "outputs": [],
   "source": [
    "preds = xgb_reg.predict(df_test[predictors])"
   ]
  },
  {
   "cell_type": "code",
   "execution_count": null,
   "metadata": {
    "collapsed": false
   },
   "outputs": [],
   "source": [
    "temp_=pd.DataFrame({'ID':df_test.ID, 'Footfall':np.round(preds)})\n",
    "\n",
    "temp_.to_csv('sol_xgb_test.csv', index=False)"
   ]
  }
 ],
 "metadata": {
  "kernelspec": {
   "display_name": "Python 3",
   "language": "python",
   "name": "python3"
  },
  "language_info": {
   "codemirror_mode": {
    "name": "ipython",
    "version": 3
   },
   "file_extension": ".py",
   "mimetype": "text/x-python",
   "name": "python",
   "nbconvert_exporter": "python",
   "pygments_lexer": "ipython3",
   "version": "3.5.2"
  }
 },
 "nbformat": 4,
 "nbformat_minor": 0
}
